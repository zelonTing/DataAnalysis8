{
 "cells": [
  {
   "cell_type": "markdown",
   "metadata": {},
   "source": [
    "# 1、Pandas\n",
    "## 1.1 数据结构\n",
    "### Series:\n",
    "一维数组：数据（values)+标签/索引(index)，可以用索引对其进行读取、赋值，或切片操作"
   ]
  },
  {
   "cell_type": "code",
   "execution_count": 5,
   "metadata": {},
   "outputs": [
    {
     "name": "stdout",
     "output_type": "stream",
     "text": [
      "a     2.30\n",
      "b    -4.00\n",
      "c     5.00\n",
      "d     0.12\n",
      "e    90.00\n",
      "dtype: float64\n",
      "-------------\n",
      "a    2.3\n",
      "b   -4.0\n",
      "dtype: float64\n",
      "-------------\n",
      "a     2.30\n",
      "b    99.00\n",
      "c     5.00\n",
      "d     0.12\n",
      "e    90.00\n",
      "dtype: float64\n"
     ]
    }
   ],
   "source": [
    "#Series。一维数组：数据（values)+标签/索引(index)，可以用索引对其进行读取、赋值，或切片操作\n",
    "import pandas as pd\n",
    "#Series定义\n",
    "series1 = pd.Series([2.3,-4,5,0.12,90],index = ['a','b','c','d','e'])\n",
    "print(series1)\n",
    "print('-------------')\n",
    "print(series1[:2])\n",
    "print('-------------')\n",
    "series1['b'] = 99\n",
    "print(series1)"
   ]
  },
  {
   "cell_type": "code",
   "execution_count": 8,
   "metadata": {},
   "outputs": [
    {
     "name": "stdout",
     "output_type": "stream",
     "text": [
      "a      3.30\n",
      "b    100.00\n",
      "c      6.00\n",
      "d      1.12\n",
      "e     91.00\n",
      "dtype: float64\n",
      "-------------\n",
      "a       5.2900\n",
      "b    9801.0000\n",
      "c      25.0000\n",
      "d       0.0144\n",
      "e    8100.0000\n",
      "dtype: float64\n",
      "-------------\n"
     ]
    },
    {
     "data": {
      "text/plain": [
       "17931.3044"
      ]
     },
     "execution_count": 8,
     "metadata": {},
     "output_type": "execute_result"
    }
   ],
   "source": [
    "#Series,对于其中的数值类型，可以将其看成numpy数组，进行数学运算和线性代数运算、统计运算\n",
    "print(series1 + 1)\n",
    "print('-------------')\n",
    "print(series1 ** 2)\n",
    "print('-------------')\n",
    "series1.dot(series1.T)"
   ]
  },
  {
   "cell_type": "code",
   "execution_count": 10,
   "metadata": {},
   "outputs": [
    {
     "name": "stdout",
     "output_type": "stream",
     "text": [
      "True\n",
      "-------------\n",
      "False\n",
      "-------------\n"
     ]
    }
   ],
   "source": [
    "#Series可以看作是字典类型（dict），\n",
    "print('a' in series1)\n",
    "print('-------------')\n",
    "print('t' in series1)\n",
    "print('-------------')"
   ]
  },
  {
   "cell_type": "markdown",
   "metadata": {},
   "source": [
    "### DataFrame:结构及组成\n",
    "表格型的数据结构。两个索引（不可变，不能修改）：行索引（index）、列索引（columns）。行在前，列在后。\n",
    " DataFrame可以看作是多个python列表、numpy数组、Series、字典dict组成，\n",
    "由此，创建DataFrame，也可以通过上述元素进行创建。\n",
    "### DataFrame操作\n",
    "DataFrame的操作也同样适用于上述数据结构的操作。\n",
    "另外，DataFrame还可以使用loc、iloc、ix、at、iat、get_calue进行读写。"
   ]
  },
  {
   "cell_type": "code",
   "execution_count": 15,
   "metadata": {},
   "outputs": [
    {
     "name": "stdout",
     "output_type": "stream",
     "text": [
      "     a      b    c     d     e\n",
      "0  2.3   99.0  5.0  0.12  90.0\n",
      "1  4.3  101.0  7.0  2.12  92.0\n",
      "-------------\n",
      "a      4.30\n",
      "b    101.00\n",
      "c      7.00\n",
      "d      2.12\n",
      "e     92.00\n",
      "Name: 1, dtype: float64\n"
     ]
    }
   ],
   "source": [
    "df1 = pd.DataFrame([series1,series1+2])\n",
    "print(df1)\n",
    "print('-------------')\n",
    "print(df1.loc[1])\n"
   ]
  },
  {
   "cell_type": "markdown",
   "metadata": {},
   "source": [
    "### 索引，管理轴标签和其他元数据。\n",
    "不可修改。其类似于数组和集合（可包含重复的标签）\n",
    "其方法有：append,diffence,intersection,union,isin,delete,drop,\n",
    "insert,is_monotonic,is_unique,unique\n"
   ]
  },
  {
   "cell_type": "code",
   "execution_count": 16,
   "metadata": {},
   "outputs": [
    {
     "name": "stdout",
     "output_type": "stream",
     "text": [
      "Index(['a', 'b', 'c', 'd', 'e'], dtype='object')\n",
      "RangeIndex(start=0, stop=2, step=1)\n"
     ]
    },
    {
     "data": {
      "text/plain": [
       "True"
      ]
     },
     "execution_count": 16,
     "metadata": {},
     "output_type": "execute_result"
    }
   ],
   "source": [
    "print(df1.columns)\n",
    "print(df1.index)\n",
    "'c' in df1.columns"
   ]
  },
  {
   "cell_type": "markdown",
   "metadata": {},
   "source": [
    "## 1.2 基本功能"
   ]
  },
  {
   "cell_type": "code",
   "execution_count": null,
   "metadata": {},
   "outputs": [],
   "source": []
  },
  {
   "cell_type": "code",
   "execution_count": null,
   "metadata": {},
   "outputs": [],
   "source": []
  },
  {
   "cell_type": "code",
   "execution_count": null,
   "metadata": {},
   "outputs": [],
   "source": []
  },
  {
   "cell_type": "markdown",
   "metadata": {},
   "source": [
    "## 1.3 汇总和计算统计"
   ]
  },
  {
   "cell_type": "code",
   "execution_count": null,
   "metadata": {},
   "outputs": [],
   "source": []
  }
 ],
 "metadata": {
  "kernelspec": {
   "display_name": "Python 3",
   "language": "python",
   "name": "python3"
  },
  "language_info": {
   "codemirror_mode": {
    "name": "ipython",
    "version": 3
   },
   "file_extension": ".py",
   "mimetype": "text/x-python",
   "name": "python",
   "nbconvert_exporter": "python",
   "pygments_lexer": "ipython3",
   "version": "3.7.3"
  }
 },
 "nbformat": 4,
 "nbformat_minor": 2
}
